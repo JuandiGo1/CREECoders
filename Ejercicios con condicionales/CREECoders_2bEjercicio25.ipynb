{
  "nbformat": 4,
  "nbformat_minor": 0,
  "metadata": {
    "colab": {
      "provenance": []
    },
    "kernelspec": {
      "name": "python3",
      "display_name": "Python 3"
    },
    "language_info": {
      "name": "python"
    }
  },
  "cells": [
    {
      "cell_type": "code",
      "source": [
        "# Recibir el dato y pasarlo a entero\n",
        "cantidad_llantas = int(input(\"Ingresa el numero de llantas a comprar \"))"
      ],
      "metadata": {
        "colab": {
          "base_uri": "https://localhost:8080/"
        },
        "id": "sKFLAEUSDlyj",
        "outputId": "0da00867-4a79-4b54-f5f1-992efaf9d704"
      },
      "execution_count": 10,
      "outputs": [
        {
          "name": "stdout",
          "output_type": "stream",
          "text": [
            "Ingresa el numero de llantas a comprar 2\n"
          ]
        }
      ]
    },
    {
      "cell_type": "code",
      "source": [
        "# Condiciones\n",
        "if (cantidad_llantas < 5):\n",
        "  precio_por_llanta = 30000\n",
        "\n",
        "if (cantidad_llantas >=5 and cantidad_llantas<=10):\n",
        "  precio_por_llanta = 25000\n",
        "\n",
        "if (cantidad_llantas > 10):\n",
        "  precio_por_llanta = 20000"
      ],
      "metadata": {
        "id": "vGYHY1ntEIRg"
      },
      "execution_count": 11,
      "outputs": []
    },
    {
      "cell_type": "code",
      "source": [
        "# Calcular el total y mostrar por pantalla\n",
        "total = cantidad_llantas * precio_por_llanta\n",
        "print(f'Valor total de la compra: ${total}')\n",
        "print(f'Valor por llanta: ${precio_por_llanta}')"
      ],
      "metadata": {
        "colab": {
          "base_uri": "https://localhost:8080/"
        },
        "id": "KvZkgjIKFITu",
        "outputId": "43d4c029-77fc-44bf-e173-7249828bcd8a"
      },
      "execution_count": 12,
      "outputs": [
        {
          "output_type": "stream",
          "name": "stdout",
          "text": [
            "Valor total de la compra: $60000\n",
            "Valor por llanta: $30000\n"
          ]
        }
      ]
    },
    {
      "cell_type": "markdown",
      "source": [
        "CREE"
      ],
      "metadata": {
        "id": "RPl5D6xyGNmv"
      }
    }
  ]
}