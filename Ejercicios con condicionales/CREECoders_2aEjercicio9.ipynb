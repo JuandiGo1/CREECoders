{
  "nbformat": 4,
  "nbformat_minor": 0,
  "metadata": {
    "colab": {
      "provenance": []
    },
    "kernelspec": {
      "name": "python3",
      "display_name": "Python 3"
    },
    "language_info": {
      "name": "python"
    }
  },
  "cells": [
    {
      "cell_type": "code",
      "execution_count": null,
      "metadata": {
        "colab": {
          "base_uri": "https://localhost:8080/"
        },
        "id": "mnCty0k9CU0U",
        "outputId": "77ba1c96-091c-47b1-ca67-1bf57c008b3b"
      },
      "outputs": [
        {
          "name": "stdout",
          "output_type": "stream",
          "text": [
            "Ingresa la superficie del terreno en hectáreas 50\n"
          ]
        }
      ],
      "source": [
        "superficie = input(\"Ingresa la superficie del terreno en hectáreas \")\n",
        "superficie = float(superficie)\n",
        "superficie_m2 =superficie * 10000\n"
      ]
    },
    {
      "cell_type": "code",
      "source": [
        "if (superficie_m2 >1000000 ):\n",
        "    superficie_pinos = superficie_m2 * 0.7\n",
        "    superficie_oyamel = superficie_m2 * 0.2\n",
        "    superficie_cedros = superficie_m2 * 0.1\n",
        "else:\n",
        "    superficie_pinos = superficie_m2 * 0.5\n",
        "    superficie_oyamel = superficie_m2 * 0.3\n",
        "    superficie_cedros = superficie_m2 * 0.2\n"
      ],
      "metadata": {
        "id": "SQdROPy1WdSE",
        "collapsed": true
      },
      "execution_count": null,
      "outputs": []
    },
    {
      "cell_type": "code",
      "source": [
        "cantidad_pinos = (superficie_pinos / 10) * 8\n",
        "cantidad_oyamel = (superficie_oyamel / 15) * 15\n",
        "cantidad_cedros = (superficie_cedros / 18) * 10"
      ],
      "metadata": {
        "id": "yxyDlIl3aNKo"
      },
      "execution_count": null,
      "outputs": []
    },
    {
      "cell_type": "code",
      "source": [
        "\n",
        "print(\"La cantidad a sembrar de cada arbol es la siguiente: \")\n",
        "print(f\"Pinos: {cantidad_pinos}\")\n",
        "print(f\"Oyaamel: {cantidad_oyamel}\")\n",
        "print(f\"Cedros: {cantidad_cedros}\")\n"
      ],
      "metadata": {
        "id": "5vJD-jv2blxI",
        "colab": {
          "base_uri": "https://localhost:8080/"
        },
        "outputId": "d719d047-f055-4304-a7de-49e8923f1398"
      },
      "execution_count": null,
      "outputs": [
        {
          "output_type": "stream",
          "name": "stdout",
          "text": [
            "La cantidad a sembrar de cada arbol es la siguiente: \n",
            "Pinos: 200000.0\n",
            "Oyaamel: 150000.0\n",
            "Cedros: 55555.555555555555\n"
          ]
        }
      ]
    }
  ]
}